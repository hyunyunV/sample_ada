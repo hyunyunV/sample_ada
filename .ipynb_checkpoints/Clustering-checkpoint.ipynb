{
 "cells": [
  {
   "cell_type": "code",
   "execution_count": 1,
   "metadata": {},
   "outputs": [],
   "source": [
    "import numpy as np\n",
    "import pandas as pd\n",
    "import matplotlib.pyplot as plt\n",
    "from imblearn.under_sampling import ClusterCentroids\n",
    "from collections import Counter"
   ]
  },
  {
   "cell_type": "code",
   "execution_count": 2,
   "metadata": {},
   "outputs": [
    {
     "name": "stdout",
     "output_type": "stream",
     "text": [
      "Requirement already satisfied: imbalanced-learn in c:\\users\\reina\\anaconda3\\lib\\site-packages (0.8.0)\n",
      "Requirement already satisfied: scikit-learn>=0.24 in c:\\users\\reina\\anaconda3\\lib\\site-packages (from imbalanced-learn) (0.24.1)\n",
      "Requirement already satisfied: scipy>=0.19.1 in c:\\users\\reina\\anaconda3\\lib\\site-packages (from imbalanced-learn) (1.5.2)\n",
      "Requirement already satisfied: joblib>=0.11 in c:\\users\\reina\\anaconda3\\lib\\site-packages (from imbalanced-learn) (0.17.0)\n",
      "Requirement already satisfied: numpy>=1.13.3 in c:\\users\\reina\\anaconda3\\lib\\site-packages (from imbalanced-learn) (1.19.2)\n",
      "Requirement already satisfied: threadpoolctl>=2.0.0 in c:\\users\\reina\\anaconda3\\lib\\site-packages (from scikit-learn>=0.24->imbalanced-learn) (2.1.0)\n"
     ]
    }
   ],
   "source": [
    "!pip install imbalanced-learn"
   ]
  },
  {
   "cell_type": "code",
   "execution_count": 2,
   "metadata": {},
   "outputs": [
    {
     "data": {
      "text/html": [
       "<div>\n",
       "<style scoped>\n",
       "    .dataframe tbody tr th:only-of-type {\n",
       "        vertical-align: middle;\n",
       "    }\n",
       "\n",
       "    .dataframe tbody tr th {\n",
       "        vertical-align: top;\n",
       "    }\n",
       "\n",
       "    .dataframe thead th {\n",
       "        text-align: right;\n",
       "    }\n",
       "</style>\n",
       "<table border=\"1\" class=\"dataframe\">\n",
       "  <thead>\n",
       "    <tr style=\"text-align: right;\">\n",
       "      <th></th>\n",
       "      <th>Unnamed: 0</th>\n",
       "      <th>k</th>\n",
       "      <th>year</th>\n",
       "      <th>budo_indx</th>\n",
       "      <th>Ratio1</th>\n",
       "      <th>Ratio2</th>\n",
       "      <th>Ratio3</th>\n",
       "      <th>Ratio4</th>\n",
       "      <th>Ratio5</th>\n",
       "      <th>Ratio6</th>\n",
       "      <th>Ratio7</th>\n",
       "    </tr>\n",
       "  </thead>\n",
       "  <tbody>\n",
       "    <tr>\n",
       "      <th>count</th>\n",
       "      <td>20500.000000</td>\n",
       "      <td>20500.000000</td>\n",
       "      <td>20500.000000</td>\n",
       "      <td>20500.000000</td>\n",
       "      <td>20500.000000</td>\n",
       "      <td>2.050000e+04</td>\n",
       "      <td>20500.000000</td>\n",
       "      <td>20500.000000</td>\n",
       "      <td>20500.000000</td>\n",
       "      <td>20500.000000</td>\n",
       "      <td>20500.000000</td>\n",
       "    </tr>\n",
       "    <tr>\n",
       "      <th>mean</th>\n",
       "      <td>11064.564780</td>\n",
       "      <td>11065.564780</td>\n",
       "      <td>2003.585317</td>\n",
       "      <td>0.024390</td>\n",
       "      <td>0.136664</td>\n",
       "      <td>7.897626e-16</td>\n",
       "      <td>0.584088</td>\n",
       "      <td>0.200613</td>\n",
       "      <td>0.457045</td>\n",
       "      <td>0.210603</td>\n",
       "      <td>17.042023</td>\n",
       "    </tr>\n",
       "    <tr>\n",
       "      <th>std</th>\n",
       "      <td>6398.301083</td>\n",
       "      <td>6398.301083</td>\n",
       "      <td>1.108790</td>\n",
       "      <td>0.154261</td>\n",
       "      <td>0.121923</td>\n",
       "      <td>1.000000e+00</td>\n",
       "      <td>0.221314</td>\n",
       "      <td>0.184638</td>\n",
       "      <td>0.310817</td>\n",
       "      <td>0.230174</td>\n",
       "      <td>1.083715</td>\n",
       "    </tr>\n",
       "    <tr>\n",
       "      <th>min</th>\n",
       "      <td>0.000000</td>\n",
       "      <td>1.000000</td>\n",
       "      <td>2002.000000</td>\n",
       "      <td>0.000000</td>\n",
       "      <td>0.000000</td>\n",
       "      <td>-2.010528e-01</td>\n",
       "      <td>0.070000</td>\n",
       "      <td>0.000000</td>\n",
       "      <td>-0.700000</td>\n",
       "      <td>-1.680000</td>\n",
       "      <td>15.895089</td>\n",
       "    </tr>\n",
       "    <tr>\n",
       "      <th>25%</th>\n",
       "      <td>5540.750000</td>\n",
       "      <td>5541.750000</td>\n",
       "      <td>2003.000000</td>\n",
       "      <td>0.000000</td>\n",
       "      <td>0.050000</td>\n",
       "      <td>-1.454595e-01</td>\n",
       "      <td>0.420000</td>\n",
       "      <td>0.060000</td>\n",
       "      <td>0.260000</td>\n",
       "      <td>0.070000</td>\n",
       "      <td>16.257666</td>\n",
       "    </tr>\n",
       "    <tr>\n",
       "      <th>50%</th>\n",
       "      <td>11039.500000</td>\n",
       "      <td>11040.500000</td>\n",
       "      <td>2004.000000</td>\n",
       "      <td>0.000000</td>\n",
       "      <td>0.110000</td>\n",
       "      <td>-1.410532e-01</td>\n",
       "      <td>0.610000</td>\n",
       "      <td>0.140000</td>\n",
       "      <td>0.390000</td>\n",
       "      <td>0.190000</td>\n",
       "      <td>16.723527</td>\n",
       "    </tr>\n",
       "    <tr>\n",
       "      <th>75%</th>\n",
       "      <td>16640.250000</td>\n",
       "      <td>16641.250000</td>\n",
       "      <td>2005.000000</td>\n",
       "      <td>0.000000</td>\n",
       "      <td>0.180000</td>\n",
       "      <td>-1.254848e-01</td>\n",
       "      <td>0.750000</td>\n",
       "      <td>0.300000</td>\n",
       "      <td>0.580000</td>\n",
       "      <td>0.350000</td>\n",
       "      <td>17.510087</td>\n",
       "    </tr>\n",
       "    <tr>\n",
       "      <th>max</th>\n",
       "      <td>22094.000000</td>\n",
       "      <td>22095.000000</td>\n",
       "      <td>2005.000000</td>\n",
       "      <td>1.000000</td>\n",
       "      <td>1.550000</td>\n",
       "      <td>1.851354e+01</td>\n",
       "      <td>1.510000</td>\n",
       "      <td>0.850000</td>\n",
       "      <td>1.990000</td>\n",
       "      <td>0.810000</td>\n",
       "      <td>24.646007</td>\n",
       "    </tr>\n",
       "  </tbody>\n",
       "</table>\n",
       "</div>"
      ],
      "text/plain": [
       "         Unnamed: 0             k          year     budo_indx        Ratio1  \\\n",
       "count  20500.000000  20500.000000  20500.000000  20500.000000  20500.000000   \n",
       "mean   11064.564780  11065.564780   2003.585317      0.024390      0.136664   \n",
       "std     6398.301083   6398.301083      1.108790      0.154261      0.121923   \n",
       "min        0.000000      1.000000   2002.000000      0.000000      0.000000   \n",
       "25%     5540.750000   5541.750000   2003.000000      0.000000      0.050000   \n",
       "50%    11039.500000  11040.500000   2004.000000      0.000000      0.110000   \n",
       "75%    16640.250000  16641.250000   2005.000000      0.000000      0.180000   \n",
       "max    22094.000000  22095.000000   2005.000000      1.000000      1.550000   \n",
       "\n",
       "             Ratio2        Ratio3        Ratio4        Ratio5        Ratio6  \\\n",
       "count  2.050000e+04  20500.000000  20500.000000  20500.000000  20500.000000   \n",
       "mean   7.897626e-16      0.584088      0.200613      0.457045      0.210603   \n",
       "std    1.000000e+00      0.221314      0.184638      0.310817      0.230174   \n",
       "min   -2.010528e-01      0.070000      0.000000     -0.700000     -1.680000   \n",
       "25%   -1.454595e-01      0.420000      0.060000      0.260000      0.070000   \n",
       "50%   -1.410532e-01      0.610000      0.140000      0.390000      0.190000   \n",
       "75%   -1.254848e-01      0.750000      0.300000      0.580000      0.350000   \n",
       "max    1.851354e+01      1.510000      0.850000      1.990000      0.810000   \n",
       "\n",
       "             Ratio7  \n",
       "count  20500.000000  \n",
       "mean      17.042023  \n",
       "std        1.083715  \n",
       "min       15.895089  \n",
       "25%       16.257666  \n",
       "50%       16.723527  \n",
       "75%       17.510087  \n",
       "max       24.646007  "
      ]
     },
     "execution_count": 2,
     "metadata": {},
     "output_type": "execute_result"
    }
   ],
   "source": [
    "df=pd.read_excel('newdata_norm.xlsx')\n",
    "df.describe()"
   ]
  },
  {
   "cell_type": "code",
   "execution_count": null,
   "metadata": {},
   "outputs": [],
   "source": []
  },
  {
   "cell_type": "code",
   "execution_count": 6,
   "metadata": {},
   "outputs": [],
   "source": [
    "X = df.drop(\"budo_indx\", axis=1)\n",
    "#X = df.drop(\"kiscd\", axis=1)\n",
    "\n",
    "y = df[\"budo_indx\"]"
   ]
  },
  {
   "cell_type": "code",
   "execution_count": 5,
   "metadata": {},
   "outputs": [
    {
     "name": "stdout",
     "output_type": "stream",
     "text": [
      "Shape of X before SMOTE : (20500, 11)\n",
      "Shape of X after SMOTE : (40000, 11)\n",
      "[(0, 20000), (1, 20000)]\n"
     ]
    }
   ],
   "source": [
    "from imblearn.over_sampling import SMOTE\n",
    "\n",
    "sm = SMOTE()\n",
    "\n",
    "X_sm, y_sm = sm.fit_resample(X,y)\n",
    "\n",
    "print(f'''Shape of X before SMOTE : {X.shape}\n",
    "Shape of X after SMOTE : {X_sm.shape}''')\n",
    "print(sorted(Counter(y_sm).items()))\n",
    "df_resample_sm = pd.concat([X_sm, y_sm])\n",
    "#df_resample_sm.to_csv('resample_sm.csv') "
   ]
  },
  {
   "cell_type": "code",
   "execution_count": 6,
   "metadata": {
    "scrolled": true
   },
   "outputs": [
    {
     "name": "stdout",
     "output_type": "stream",
     "text": [
      "[(0, 10000), (1, 500)]\n",
      "[(0, 5000), (1, 500)]\n",
      "[(0, 2000), (1, 500)]\n",
      "[(0, 1000), (1, 500)]\n",
      "[(0, 500), (1, 500)]\n"
     ]
    }
   ],
   "source": [
    "from imblearn.under_sampling import RandomUnderSampler\n",
    "\n",
    "ratio = [0.05, 0.1, 0.25 , 0.5 , 1]\n",
    "\n",
    "for i in ratio:\n",
    "    under_i= RandomUnderSampler(sampling_strategy=i)\n",
    "    X_under_i, y_under_i = under_i.fit_resample(X, y)\n",
    "    print(sorted(Counter(y_under_i).items()))"
   ]
  },
  {
   "cell_type": "code",
   "execution_count": 170,
   "metadata": {},
   "outputs": [],
   "source": [
    "under_a= RandomUnderSampler(sampling_strategy=0.05)\n",
    "X_under_a, y_under_a = under_a.fit_resample(X, y)\n",
    "df_resample_a = pd.concat([X_under_a, y_under_a, axis=1])\n",
    "df_resample_a.to_csv('resample_10000.csv') "
   ]
  },
  {
   "cell_type": "code",
   "execution_count": 171,
   "metadata": {},
   "outputs": [],
   "source": [
    "under_b= RandomUnderSampler(sampling_strategy=0.1)\n",
    "X_under_b, y_under_b = under_b.fit_resample(X, y)\n",
    "df_resample_b = pd.concat([X_under_b, y_under_b])\n",
    "df_resample_b.to_csv('resample_5000.csv') "
   ]
  },
  {
   "cell_type": "code",
   "execution_count": 172,
   "metadata": {},
   "outputs": [],
   "source": [
    "under_c= RandomUnderSampler(sampling_strategy=0.25)\n",
    "X_under_c, y_under_c = under_c.fit_resample(X, y)\n",
    "df_resample_c = pd.concat([X_under_c, y_under_c])\n",
    "df_resample_c.to_csv('resample_2000.csv') "
   ]
  },
  {
   "cell_type": "code",
   "execution_count": 173,
   "metadata": {},
   "outputs": [],
   "source": [
    "under_d= RandomUnderSampler(sampling_strategy=0.5)\n",
    "X_under_d, y_under_d = under_d.fit_resample(X, y)\n",
    "df_resample_d = pd.concat([X_under_d, y_under_d])\n",
    "df_resample_d.to_csv('resample_1000.csv') "
   ]
  },
  {
   "cell_type": "code",
   "execution_count": 174,
   "metadata": {},
   "outputs": [],
   "source": [
    "under_e= RandomUnderSampler(sampling_strategy=1)\n",
    "X_under_e, y_under_e = under_e.fit_resample(X, y)\n",
    "df_resample_e = pd.concat([X_under_e, y_under_e])\n",
    "df_resample_e.to_csv('resample_500.csv') "
   ]
  },
  {
   "cell_type": "code",
   "execution_count": 7,
   "metadata": {},
   "outputs": [
    {
     "name": "stdout",
     "output_type": "stream",
     "text": [
      "[(0, 500), (1, 500)]\n"
     ]
    }
   ],
   "source": [
    "cc = ClusterCentroids(random_state=0)\n",
    "X_cc, y_cc = cc.fit_resample(X, y)\n",
    "print(sorted(Counter(y_cc).items()))\n",
    "#print(sorted(Counter(X_cc).items()))\n",
    "#df_resample_cc = pd.concat([X_cc, y_cc])\n",
    "#df_resample_cc.to_csv('resample_cc.csv') "
   ]
  },
  {
   "cell_type": "markdown",
   "metadata": {},
   "source": [
    "## sampling_strategy\n",
    "When float, it corresponds to the desired ratio of the number of samples in the minority class over the number of samples in the majority class after resampling. Therefore, the ratio is expressed as \\alpha_{us} = N_{m} / N_{rM} where N_{m} is the number of samples in the minority class and N_{rM} is the number of samples in the majority class after resampling.\n",
    "\n",
    "When dict, the keys correspond to the targeted classes. The values correspond to the desired number of samples for each targeted class.\n",
    "\n",
    "When callable, function taking y and returns a dict. The keys correspond to the targeted classes. The values correspond to the desired number of samples for each class."
   ]
  },
  {
   "cell_type": "code",
   "execution_count": 9,
   "metadata": {},
   "outputs": [
    {
     "name": "stdout",
     "output_type": "stream",
     "text": [
      "[(0, 5000), (1, 500)]\n"
     ]
    }
   ],
   "source": [
    "cc_a = ClusterCentroids(sampling_strategy=0.1)\n",
    "X_cc_a, y_cc_a = cc_a.fit_resample(X, y)\n",
    "print(sorted(Counter(y_cc_a).items()))\n",
    "df_resample_cc_a = pd.concat([X_cc_a, y_cc_a], axis=1)\n",
    "df_resample_cc_a.to_csv('resample_cc_5000.csv') "
   ]
  },
  {
   "cell_type": "code",
   "execution_count": 10,
   "metadata": {},
   "outputs": [
    {
     "name": "stdout",
     "output_type": "stream",
     "text": [
      "[(0, 10000), (1, 500)]\n"
     ]
    }
   ],
   "source": [
    "cc_b = ClusterCentroids(sampling_strategy=0.05)\n",
    "X_cc_b, y_cc_b = cc_b.fit_resample(X, y)\n",
    "print(sorted(Counter(y_cc_b).items()))\n",
    "df_resample_cc_b = pd.concat([X_cc_b, y_cc_b], axis=1)\n",
    "df_resample_cc_b.to_csv('resample_cc_10000.csv')"
   ]
  },
  {
   "cell_type": "code",
   "execution_count": 11,
   "metadata": {},
   "outputs": [
    {
     "name": "stdout",
     "output_type": "stream",
     "text": [
      "[(0, 2000), (1, 500)]\n"
     ]
    }
   ],
   "source": [
    "cc_c = ClusterCentroids(sampling_strategy=0.25)\n",
    "X_cc_c, y_cc_c = cc_c.fit_resample(X, y)\n",
    "print(sorted(Counter(y_cc_c).items()))\n",
    "df_resample_cc_c = pd.concat([X_cc_c, y_cc_c], axis=1)\n",
    "df_resample_cc_c.to_csv('resample_cc_2000.csv')"
   ]
  },
  {
   "cell_type": "code",
   "execution_count": 12,
   "metadata": {},
   "outputs": [
    {
     "name": "stdout",
     "output_type": "stream",
     "text": [
      "[(0, 1000), (1, 500)]\n"
     ]
    }
   ],
   "source": [
    "cc_d = ClusterCentroids(sampling_strategy=0.5)\n",
    "X_cc_d, y_cc_d = cc_d.fit_resample(X, y)\n",
    "print(sorted(Counter(y_cc_d).items()))\n",
    "df_resample_cc_d = pd.concat([X_cc_d, y_cc_d], axis=1)\n",
    "df_resample_cc_d.to_csv('resample_cc_1000.csv')"
   ]
  },
  {
   "cell_type": "code",
   "execution_count": 13,
   "metadata": {},
   "outputs": [
    {
     "name": "stdout",
     "output_type": "stream",
     "text": [
      "[(0, 500), (1, 500)]\n"
     ]
    }
   ],
   "source": [
    "cc_e = ClusterCentroids(sampling_strategy=1)\n",
    "X_cc_e, y_cc_e = cc_e.fit_resample(X, y)\n",
    "print(sorted(Counter(y_cc_e).items()))\n",
    "df_resample_cc_e = pd.concat([X_cc_e, y_cc_e], axis=1)\n",
    "df_resample_cc_e.to_csv('resample_cc_500.csv')"
   ]
  },
  {
   "cell_type": "code",
   "execution_count": null,
   "metadata": {},
   "outputs": [],
   "source": []
  }
 ],
 "metadata": {
  "kernelspec": {
   "display_name": "Python 3",
   "language": "python",
   "name": "python3"
  },
  "language_info": {
   "codemirror_mode": {
    "name": "ipython",
    "version": 3
   },
   "file_extension": ".py",
   "mimetype": "text/x-python",
   "name": "python",
   "nbconvert_exporter": "python",
   "pygments_lexer": "ipython3",
   "version": "3.8.8"
  }
 },
 "nbformat": 4,
 "nbformat_minor": 4
}
